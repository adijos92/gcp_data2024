{
 "cells": [
  {
   "cell_type": "code",
   "execution_count": null,
   "id": "e5b42547",
   "metadata": {},
   "outputs": [],
   "source": [
    "#Ternary operator\n",
    "#It is also known as Conditional expressions operator.\n",
    "#that evaluate somthing based on condition being TRUE/FALSE.\n",
    "\n",
    "#[on_true] if[expression] else[on_false]"
   ]
  },
  {
   "cell_type": "code",
   "execution_count": null,
   "id": "0673cddf",
   "metadata": {},
   "outputs": [],
   "source": [
    "#Program for Ternary operator\n",
    "a,b = 10,20\n",
    "#copy value of 'a' in min, if a<b else copy 'b'\n",
    "min = a if a<b else b\n",
    "print(min)"
   ]
  },
  {
   "cell_type": "code",
   "execution_count": null,
   "id": "90d907f5",
   "metadata": {},
   "outputs": [],
   "source": [
    "m = 'Jadhav'\n",
    "for i in m:\n",
    "    print(i)"
   ]
  },
  {
   "cell_type": "code",
   "execution_count": 1,
   "id": "76f788f3",
   "metadata": {},
   "outputs": [
    {
     "name": "stdout",
     "output_type": "stream",
     "text": [
      "Dighanchi"
     ]
    }
   ],
   "source": [
    "n ='Dighanchi'\n",
    "for k in n:\n",
    "    print(k,end='')\n",
    "    "
   ]
  },
  {
   "cell_type": "code",
   "execution_count": 2,
   "id": "be533c0e",
   "metadata": {},
   "outputs": [
    {
     "name": "stdout",
     "output_type": "stream",
     "text": [
      "G\n",
      "1\n",
      "a\n",
      "2\n",
      "n\n",
      "3\n",
      "e\n",
      "4\n",
      "s\n",
      "5\n",
      "h\n",
      "6\n"
     ]
    }
   ],
   "source": [
    "a = 'Ganesh'\n",
    "i = 0\n",
    "for j in a:\n",
    "    print(j)\n",
    "    i = i+1\n",
    "    print(i)"
   ]
  },
  {
   "cell_type": "code",
   "execution_count": 1,
   "id": "5263ee64",
   "metadata": {},
   "outputs": [
    {
     "name": "stdout",
     "output_type": "stream",
     "text": [
      "input a word: ashwini\n",
      "i n i w h s a "
     ]
    }
   ],
   "source": [
    "word = input(\"input a word: \")\n",
    "for char in range(len(word)-1,-1,-1):\n",
    "    print(word[char],end=\" \")"
   ]
  },
  {
   "cell_type": "code",
   "execution_count": null,
   "id": "fa826d9a",
   "metadata": {},
   "outputs": [],
   "source": []
  },
  {
   "cell_type": "code",
   "execution_count": 3,
   "id": "cebf0dba",
   "metadata": {},
   "outputs": [
    {
     "name": "stdout",
     "output_type": "stream",
     "text": [
      "A1\n",
      "s2\n",
      "h3\n",
      "w4\n",
      "i5\n",
      "n6\n",
      "i7\n"
     ]
    }
   ],
   "source": [
    "b ='Ashwini'\n",
    "k =0 \n",
    "for l in b:\n",
    "    print(l,end='')\n",
    "    k+=1\n",
    "    print(k)"
   ]
  },
  {
   "cell_type": "code",
   "execution_count": null,
   "id": "23dcc838",
   "metadata": {},
   "outputs": [],
   "source": [
    "for i in range(7):\n",
    "    print('HI')"
   ]
  },
  {
   "cell_type": "code",
   "execution_count": null,
   "id": "1f368c53",
   "metadata": {},
   "outputs": [],
   "source": [
    "for a in range(1,100,10):\n",
    "    print(a,end=' ')                     #for horizontal"
   ]
  },
  {
   "cell_type": "code",
   "execution_count": null,
   "id": "9c452654",
   "metadata": {},
   "outputs": [],
   "source": []
  },
  {
   "cell_type": "code",
   "execution_count": null,
   "id": "11304f51",
   "metadata": {},
   "outputs": [],
   "source": []
  },
  {
   "cell_type": "code",
   "execution_count": null,
   "id": "8cfef556",
   "metadata": {},
   "outputs": [],
   "source": [
    "for a in range(1,100,10):                #(start,end,step)   (exclude end)\n",
    "    print(a)                             #for vertical"
   ]
  },
  {
   "cell_type": "code",
   "execution_count": null,
   "id": "afa3766b",
   "metadata": {},
   "outputs": [],
   "source": [
    "for b in range(1,12):\n",
    "    print(b)"
   ]
  },
  {
   "cell_type": "code",
   "execution_count": 4,
   "id": "2903712d",
   "metadata": {},
   "outputs": [
    {
     "name": "stdout",
     "output_type": "stream",
     "text": [
      "<generator object <genexpr> at 0x000002482D5BDCB0>\n"
     ]
    }
   ],
   "source": [
    "t = (x for x in range(5))\n",
    "print(t)"
   ]
  },
  {
   "cell_type": "code",
   "execution_count": 5,
   "id": "f663afce",
   "metadata": {},
   "outputs": [
    {
     "name": "stdout",
     "output_type": "stream",
     "text": [
      "{0: 0, 1: 1, 2: 2, 3: 3, 4: 4}\n"
     ]
    }
   ],
   "source": [
    "d = {x:x for x in range(5)}\n",
    "print(d)"
   ]
  },
  {
   "cell_type": "code",
   "execution_count": 7,
   "id": "77bc1401",
   "metadata": {},
   "outputs": [
    {
     "name": "stdout",
     "output_type": "stream",
     "text": [
      "0  3  6  9  12  15  18  21  24  27  30  33  36  39  "
     ]
    }
   ],
   "source": [
    "for t in range(40):\n",
    "    if t%3==0:\n",
    "        print(t,end='  ')"
   ]
  },
  {
   "cell_type": "code",
   "execution_count": 2,
   "id": "ec07097f",
   "metadata": {},
   "outputs": [
    {
     "name": "stdout",
     "output_type": "stream",
     "text": [
      "INIWHSA\n"
     ]
    }
   ],
   "source": [
    "#Reversing string without using Built-in-function()\n",
    "a = 'ASHWINI'\n",
    "b = ''\n",
    "for i in range(1,len(a)+1):\n",
    "    b+=a[-i]\n",
    "print(b)"
   ]
  },
  {
   "cell_type": "code",
   "execution_count": 1,
   "id": "a404aaf6",
   "metadata": {},
   "outputs": [
    {
     "name": "stdout",
     "output_type": "stream",
     "text": [
      "0 A\n",
      "1 s\n",
      "2 h\n",
      "3 w\n",
      "4 i\n",
      "5 n\n",
      "6 i\n",
      "7  \n",
      "8 J\n",
      "9 a\n",
      "10 d\n",
      "11 h\n",
      "12 a\n",
      "13 v\n"
     ]
    }
   ],
   "source": [
    "#String with their index\n",
    "s1 = 'Ashwini Jadhav'\n",
    "for i,val in enumerate(s1):\n",
    "    print(i,val)"
   ]
  },
  {
   "cell_type": "code",
   "execution_count": 8,
   "id": "bc393167",
   "metadata": {},
   "outputs": [
    {
     "name": "stdout",
     "output_type": "stream",
     "text": [
      "1 3\n",
      "2 3\n",
      "7 3\n"
     ]
    }
   ],
   "source": [
    "#String with their index\n",
    "x = [2,3,3,4,5,6,7,3]\n",
    "for i,val in enumerate(x):\n",
    "    if val==3:\n",
    "        print(i,val)"
   ]
  },
  {
   "cell_type": "code",
   "execution_count": null,
   "id": "9f06267b",
   "metadata": {},
   "outputs": [],
   "source": [
    "l= [1,2,5,4,6,8]\n",
    "for m in l:\n",
    "    print(m)"
   ]
  },
  {
   "cell_type": "code",
   "execution_count": null,
   "id": "3b5b79a0",
   "metadata": {},
   "outputs": [],
   "source": [
    "t1 = (41,45,49,47)\n",
    "for r in t1:\n",
    "    if r%3 != 0:\n",
    "        print(r)"
   ]
  },
  {
   "cell_type": "code",
   "execution_count": 9,
   "id": "ff764402",
   "metadata": {},
   "outputs": [
    {
     "name": "stdout",
     "output_type": "stream",
     "text": [
      "true\n",
      "false\n",
      "true\n",
      "false\n"
     ]
    }
   ],
   "source": [
    "s1 = (\"ab\",\"cd\",\"ef\",\"xy\")\n",
    "for i in s1:\n",
    "    if i==\"ab\" or i==\"ef\":\n",
    "        print('true')\n",
    "    else:\n",
    "        print('false')"
   ]
  },
  {
   "cell_type": "code",
   "execution_count": null,
   "id": "d989380e",
   "metadata": {},
   "outputs": [],
   "source": [
    "a = int(input('enter no.: '))\n",
    "sum = 0\n",
    "i=1\n",
    "while i <= a:\n",
    "    sum+=i\n",
    "    i=i+1\n",
    "print(a,sum)"
   ]
  },
  {
   "cell_type": "code",
   "execution_count": null,
   "id": "d5198629",
   "metadata": {},
   "outputs": [],
   "source": [
    "z1 = ('')\n",
    "while z1!= 'Ashu':\n",
    "    z1 = input('enter Name: ')\n",
    "print(\"Hi\")"
   ]
  },
  {
   "cell_type": "code",
   "execution_count": null,
   "id": "4a4122fa",
   "metadata": {},
   "outputs": [],
   "source": [
    "#Infinite Loop\n",
    "i = 0\n",
    "while True:\n",
    "    i = i+1\n",
    "    print(\"Good Luck\")\n",
    "    break         \n",
    "    \n",
    "#How to stop infinite loop?\n",
    "#ANS- use \"break\" for stopping infinite loop."
   ]
  },
  {
   "cell_type": "code",
   "execution_count": null,
   "id": "f1bac8fb",
   "metadata": {},
   "outputs": [],
   "source": [
    "#Nested For Loop\n",
    "for i in range(1,5):          #outer loop & iterate by inner loop to outer loop\n",
    "    for j in range(i):        #inner loop\n",
    "        print(i,end=' ')      #end used for new line or use /n\n",
    "    print()"
   ]
  },
  {
   "cell_type": "code",
   "execution_count": null,
   "id": "a78e2088",
   "metadata": {},
   "outputs": [],
   "source": [
    "for k in range(1,10):                  #exclude last i.e 10\n",
    "    for i in range(k):\n",
    "        print('*',end=' ')\n",
    "    print()"
   ]
  },
  {
   "cell_type": "code",
   "execution_count": 3,
   "id": "74192022",
   "metadata": {},
   "outputs": [
    {
     "name": "stdout",
     "output_type": "stream",
     "text": [
      "You have passed level 0\n",
      "You have passed level 1\n",
      "You have passed level 2\n",
      "You have passed level 3\n",
      "You have passed level 4\n",
      "You have passed level 5\n",
      "Level Ends\n"
     ]
    }
   ],
   "source": [
    "current_level = 0\n",
    "final_level = 5\n",
    "\n",
    "game_completed = True\n",
    "\n",
    "while current_level <= final_level:\n",
    "    if game_completed: \n",
    "        print('You have passed level', current_level)\n",
    "        current_level += 1\n",
    "\n",
    "print('Level Ends')"
   ]
  },
  {
   "cell_type": "code",
   "execution_count": null,
   "id": "27482f3e",
   "metadata": {},
   "outputs": [],
   "source": [
    "#The for loop is usually used when the number of iterations is known & while loop is usually used when the number of iterations are unknown."
   ]
  }
 ],
 "metadata": {
  "kernelspec": {
   "display_name": "Python 3 (ipykernel)",
   "language": "python",
   "name": "python3"
  },
  "language_info": {
   "codemirror_mode": {
    "name": "ipython",
    "version": 3
   },
   "file_extension": ".py",
   "mimetype": "text/x-python",
   "name": "python",
   "nbconvert_exporter": "python",
   "pygments_lexer": "ipython3",
   "version": "3.10.7"
  }
 },
 "nbformat": 4,
 "nbformat_minor": 5
}
