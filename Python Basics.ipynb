{
 "cells": [
  {
   "cell_type": "code",
   "execution_count": null,
   "id": "f8bec005",
   "metadata": {},
   "outputs": [],
   "source": [
    "#syntax of the print function accepts 5 parameters\n",
    "print(object= separator= end= file= flush=)\n",
    "\n",
    "#object - value(s) to be printed\n",
    "#sep (optional) - allows us to separate multiple objects inside print().\n",
    "#end (optional) - allows us to add add specific values like new line \"\\n\", tab \"\\t\"\n",
    "#file (optional) - where the values are printed. It's default value is sys.stdout (screen)\n",
    "#flush (optional) - boolean specifying if the output is flushed or buffered. Default: False"
   ]
  },
  {
   "cell_type": "markdown",
   "id": "dcf63825",
   "metadata": {},
   "source": [
    "### Specific Separator"
   ]
  },
  {
   "cell_type": "code",
   "execution_count": null,
   "id": "d1c15811",
   "metadata": {},
   "outputs": [],
   "source": [
    "#print()with a specific separator\n",
    "\n",
    "x = 'pi is'\n",
    "y = 3.14\n",
    "print(x,y,sep=':')    #'sep'parameter to override def separator."
   ]
  },
  {
   "cell_type": "markdown",
   "id": "93cd0b98",
   "metadata": {},
   "source": [
    "### Specific End"
   ]
  },
  {
   "cell_type": "code",
   "execution_count": null,
   "id": "d99777bb",
   "metadata": {},
   "outputs": [],
   "source": [
    "#print()with a specific end\n",
    "\n",
    "print(\"Hello\",end='-')\n",
    "print(\"World\",end='.')"
   ]
  },
  {
   "cell_type": "markdown",
   "id": "23bee3e4",
   "metadata": {},
   "source": [
    "#### Print Variable to Console"
   ]
  },
  {
   "cell_type": "code",
   "execution_count": null,
   "id": "c8b52d9c",
   "metadata": {},
   "outputs": [],
   "source": [
    "x = 'pi is'\n",
    "y = 3.14\n",
    "print(x,y)"
   ]
  },
  {
   "cell_type": "markdown",
   "id": "b5bb27b2",
   "metadata": {},
   "source": [
    "#### Many values to multiple variables"
   ]
  },
  {
   "cell_type": "code",
   "execution_count": null,
   "id": "b9e8400c",
   "metadata": {},
   "outputs": [],
   "source": [
    "a,b,c = 'Orange','Banana','Apple'\n",
    "print(a)\n",
    "print(b)\n",
    "print(c)"
   ]
  },
  {
   "cell_type": "markdown",
   "id": "c4ee7f80",
   "metadata": {},
   "source": [
    "#### one value to multiple variable"
   ]
  },
  {
   "cell_type": "code",
   "execution_count": null,
   "id": "0952d6d8",
   "metadata": {},
   "outputs": [],
   "source": [
    "x=y=z= 'Data Engineer'\n",
    "print(x,y,z)"
   ]
  },
  {
   "cell_type": "code",
   "execution_count": null,
   "id": "6651bc17",
   "metadata": {},
   "outputs": [],
   "source": [
    "x=y=z= 'Data Engineer'\n",
    "print(x)\n",
    "print(y)\n",
    "print(z)"
   ]
  },
  {
   "cell_type": "markdown",
   "id": "b88fbe2a",
   "metadata": {},
   "source": [
    "#### unpack a collection\n"
   ]
  },
  {
   "cell_type": "code",
   "execution_count": null,
   "id": "1ee1fd10",
   "metadata": {},
   "outputs": [],
   "source": [
    "#If you've collection of values in 'List,Tuple etc',PYTHON allows you to extract the values into variables.\n",
    "\n",
    "Fruits = ['Cherry','Mango','Grapes']\n",
    "x,y,z = Fruits\n",
    "print(x)\n",
    "print(y)\n",
    "print(z)"
   ]
  },
  {
   "cell_type": "markdown",
   "id": "21cd29ce",
   "metadata": {},
   "source": [
    "### '+' Operator"
   ]
  },
  {
   "cell_type": "code",
   "execution_count": null,
   "id": "7f5b26b4",
   "metadata": {},
   "outputs": [],
   "source": [
    "a ='Python '\n",
    "b ='Is '\n",
    "c ='Language'\n",
    "print(a+b+c,end='.')      \n",
    "#The space character after 'Python ' & 'Is ',without them result would be 'PythonIsLanguage.'     "
   ]
  },
  {
   "cell_type": "code",
   "execution_count": null,
   "id": "1b48b914",
   "metadata": {},
   "outputs": [],
   "source": [
    "#for numbers '+' operator works as Mathematical Operator.\n",
    "x = 23\n",
    "y = 7\n",
    "print(x+y)"
   ]
  },
  {
   "cell_type": "code",
   "execution_count": null,
   "id": "f3dcbbe5",
   "metadata": {},
   "outputs": [],
   "source": [
    "#Combine string & number with '+' operator\n",
    "p = 5\n",
    "q = 'Anesh'\n",
    "print(p+q)\n",
    "#It gives type-error."
   ]
  },
  {
   "cell_type": "markdown",
   "id": "016f8b49",
   "metadata": {},
   "source": [
    "### Global Variable"
   ]
  },
  {
   "cell_type": "code",
   "execution_count": 1,
   "id": "ca1e74ab",
   "metadata": {},
   "outputs": [
    {
     "name": "stdout",
     "output_type": "stream",
     "text": [
      "My Name is Ashu."
     ]
    }
   ],
   "source": [
    "#Variables that are created 'Outside of a function' is known as Global Variable.\n",
    "#Global Variable can be used by Everyone, 'both INSIDE & OUTSIDE' function.\n",
    "#It is NOT part of any function & can be used in any function.\n",
    "\n",
    "m='Ashu'\n",
    "def myfunc():\n",
    "    print('My Name is '+ m, end='.')\n",
    "myfunc()"
   ]
  },
  {
   "cell_type": "code",
   "execution_count": 20,
   "id": "cb3af2e6",
   "metadata": {},
   "outputs": [
    {
     "name": "stdout",
     "output_type": "stream",
     "text": [
      "50\n"
     ]
    }
   ],
   "source": [
    "a=10\n",
    "b=5\n",
    "c=a*b\n",
    "def myfunc():\n",
    "    print(c)\n",
    "myfunc()"
   ]
  },
  {
   "cell_type": "code",
   "execution_count": 8,
   "id": "7ca1c6ef",
   "metadata": {},
   "outputs": [
    {
     "name": "stdout",
     "output_type": "stream",
     "text": [
      "Hello\n"
     ]
    }
   ],
   "source": [
    "def a():\n",
    "    print(\"Hello\")\n",
    "\n",
    "a()"
   ]
  },
  {
   "cell_type": "markdown",
   "id": "131010aa",
   "metadata": {},
   "source": [
    "### Local Variable"
   ]
  },
  {
   "cell_type": "code",
   "execution_count": null,
   "id": "6f24a0db",
   "metadata": {},
   "outputs": [],
   "source": [
    "#Local variables are those which are initialized inside a function and belong only to that particular function. \n",
    "#It cannot be accessed anywhere outside the function.\n",
    "#It is a part of function & that's why it can be used only within that function.\n"
   ]
  },
  {
   "cell_type": "code",
   "execution_count": 25,
   "id": "a66109cd",
   "metadata": {},
   "outputs": [
    {
     "name": "stdout",
     "output_type": "stream",
     "text": [
      "Ashwini Ganesh Jadhav \n",
      "**ANESH**\n"
     ]
    }
   ],
   "source": [
    "def myfunc():\n",
    "    p='Ashwini '\n",
    "    q='Ganesh '\n",
    "    r='Jadhav '\n",
    "    print(p+q+r)\n",
    "myfunc()\n",
    "\n",
    "print('**ANESH**')"
   ]
  },
  {
   "cell_type": "code",
   "execution_count": 3,
   "id": "23ffef53",
   "metadata": {},
   "outputs": [
    {
     "name": "stdout",
     "output_type": "stream",
     "text": [
      "a = 30\n",
      "a = 20\n",
      "a = 10\n"
     ]
    }
   ],
   "source": [
    "def outer_function():\n",
    "    a = 20\n",
    "\n",
    "    def inner_function():\n",
    "        a = 30\n",
    "        print('a =', a)\n",
    "\n",
    "    inner_function()\n",
    "    print('a =', a)\n",
    "\n",
    "\n",
    "a = 10\n",
    "outer_function()\n",
    "print('a =', a)"
   ]
  },
  {
   "cell_type": "code",
   "execution_count": 8,
   "id": "457d7755",
   "metadata": {},
   "outputs": [
    {
     "name": "stdout",
     "output_type": "stream",
     "text": [
      "python\n"
     ]
    }
   ],
   "source": [
    "#(local to global)\n",
    "x=5\n",
    "def my_fun():\n",
    "    global x       #\n",
    "    x='python'\n",
    "    print(x)\n",
    "my_fun()"
   ]
  },
  {
   "cell_type": "code",
   "execution_count": 9,
   "id": "2ef294cc",
   "metadata": {},
   "outputs": [
    {
     "ename": "SyntaxError",
     "evalue": "name 'x' is assigned to before global declaration (3032081669.py, line 5)",
     "output_type": "error",
     "traceback": [
      "\u001b[1;36m  Input \u001b[1;32mIn [9]\u001b[1;36m\u001b[0m\n\u001b[1;33m    global x\u001b[0m\n\u001b[1;37m    ^\u001b[0m\n\u001b[1;31mSyntaxError\u001b[0m\u001b[1;31m:\u001b[0m name 'x' is assigned to before global declaration\n"
     ]
    }
   ],
   "source": [
    "#'global'keyword must be declared before variable. \n",
    "x=5\n",
    "def my_fun():\n",
    "    x='python'     #\n",
    "    global x       #\n",
    "    print(x)\n",
    "my_fun()"
   ]
  },
  {
   "cell_type": "code",
   "execution_count": 19,
   "id": "45bc9975",
   "metadata": {},
   "outputs": [
    {
     "name": "stdout",
     "output_type": "stream",
     "text": [
      "My Name is Ashu.\n",
      "I am a Girl."
     ]
    }
   ],
   "source": [
    "#Global with Local\n",
    "x = 'Girl'                                  #global\n",
    "def myfun():\n",
    "    x = 'Ashu'                              #local\n",
    "    print('My Name is '+x, end='.''\\n')\n",
    "myfun()\n",
    "\n",
    "print('I am a '+x, end='.')"
   ]
  },
  {
   "cell_type": "code",
   "execution_count": 4,
   "id": "dd100de2",
   "metadata": {},
   "outputs": [
    {
     "name": "stdout",
     "output_type": "stream",
     "text": [
      "a = 30\n",
      "a = 30\n",
      "a = 30\n"
     ]
    }
   ],
   "source": [
    "def outer_function():\n",
    "    global a\n",
    "    a = 20\n",
    "\n",
    "    def inner_function():\n",
    "        global a\n",
    "        a = 30\n",
    "        print('a =', a)\n",
    "\n",
    "    inner_function()\n",
    "    print('a =', a)\n",
    "\n",
    "\n",
    "a = 10\n",
    "outer_function()\n",
    "print('a =', a)"
   ]
  },
  {
   "cell_type": "code",
   "execution_count": null,
   "id": "f9b7c842",
   "metadata": {},
   "outputs": [],
   "source": []
  }
 ],
 "metadata": {
  "kernelspec": {
   "display_name": "Python 3 (ipykernel)",
   "language": "python",
   "name": "python3"
  },
  "language_info": {
   "codemirror_mode": {
    "name": "ipython",
    "version": 3
   },
   "file_extension": ".py",
   "mimetype": "text/x-python",
   "name": "python",
   "nbconvert_exporter": "python",
   "pygments_lexer": "ipython3",
   "version": "3.10.2"
  }
 },
 "nbformat": 4,
 "nbformat_minor": 5
}
