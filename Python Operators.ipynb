{
 "cells": [
  {
   "cell_type": "markdown",
   "id": "82a0c0c8",
   "metadata": {},
   "source": [
    "### 1.Arithmetic Operator"
   ]
  },
  {
   "cell_type": "code",
   "execution_count": 15,
   "id": "90db05a8",
   "metadata": {},
   "outputs": [
    {
     "name": "stdout",
     "output_type": "stream",
     "text": [
      "a+b= 15\n",
      "a-b= 5\n",
      "a*b= 50\n",
      "a/b= 2.0\n",
      "a//b= 2\n",
      "a%b= 0\n",
      "a**b= 100000\n"
     ]
    }
   ],
   "source": [
    "a = 10\n",
    "b = 5\n",
    "\n",
    "print('a+b=',a + b)\n",
    "\n",
    "print('a-b=',a - b)\n",
    "\n",
    "print('a*b=',a * b)\n",
    "\n",
    "print('a/b=',a / b)       #gives o/p with reminder value in decimal\n",
    "\n",
    "print('a//b=',a // b)     #Floor division- gives o/p in round value \n",
    "\n",
    "print('a%b=',a%b)         #modulus - shows reminder\n",
    "\n",
    "print('a**b=',a**b)       #Exponentiation (10*10*10*10*10)"
   ]
  },
  {
   "cell_type": "markdown",
   "id": "585dd0be",
   "metadata": {},
   "source": [
    "### 2.Relational Or Comparison Operators"
   ]
  },
  {
   "cell_type": "code",
   "execution_count": 21,
   "id": "d8030a7f",
   "metadata": {},
   "outputs": [
    {
     "name": "stdout",
     "output_type": "stream",
     "text": [
      "x > y is False\n",
      "x >= y is False\n",
      "x < y is True\n",
      "x <= y is True\n",
      "x == y is False\n",
      "x != y is True\n"
     ]
    }
   ],
   "source": [
    "x = 5\n",
    "y = 7\n",
    "\n",
    "print(\"x > y is\", x>y)\n",
    "\n",
    "print(\"x >= y is\", x>=y)\n",
    "\n",
    "print(\"x < y is\", x<y)\n",
    "\n",
    "print(\"x <= y is\", x<=y)\n",
    "\n",
    "print(\"x == y is\", x==y)\n",
    "\n",
    "print(\"x != y is\", x!=y)"
   ]
  },
  {
   "cell_type": "markdown",
   "id": "9e8710f4",
   "metadata": {},
   "source": [
    "### 3.Logical Operators"
   ]
  },
  {
   "cell_type": "code",
   "execution_count": 24,
   "id": "a15c347d",
   "metadata": {},
   "outputs": [
    {
     "name": "stdout",
     "output_type": "stream",
     "text": [
      "True\n",
      "True\n",
      "False\n"
     ]
    }
   ],
   "source": [
    "#1.AND\n",
    "#Returns True if both statements are true\n",
    "x = 5\n",
    "print(x > 3 and x < 10)\n",
    "\n",
    "#2.OR\n",
    "#Returns True if one of the statements is true\n",
    "x = 5\n",
    "print(x > 3 or x < 4)\n",
    "\n",
    "#3.NOT\n",
    "#Reverse the result, returns False if the result is true\n",
    "x = 5\n",
    "print(not(x > 3 and x < 10))\n",
    "\n"
   ]
  },
  {
   "cell_type": "markdown",
   "id": "0f98d98e",
   "metadata": {},
   "source": [
    "### 4.Assignment Operators"
   ]
  },
  {
   "cell_type": "code",
   "execution_count": 30,
   "id": "be872d99",
   "metadata": {},
   "outputs": [
    {
     "name": "stdout",
     "output_type": "stream",
     "text": [
      "8\n",
      "2\n",
      "9\n",
      "5.0\n"
     ]
    }
   ],
   "source": [
    "x = 5\n",
    "x += 3\n",
    "print(x)\n",
    "\n",
    "\n",
    "y = 5\n",
    "y -= 3\n",
    "print(y)\n",
    "\n",
    "\n",
    "a = 3\n",
    "a *= 3\n",
    "print(a)\n",
    "\n",
    "\n",
    "b = 10\n",
    "b /= 2\n",
    "print(b)"
   ]
  },
  {
   "cell_type": "markdown",
   "id": "b117740f",
   "metadata": {},
   "source": [
    "### 5.Special Or Identity Operators"
   ]
  },
  {
   "cell_type": "code",
   "execution_count": 37,
   "id": "caf4c7ff",
   "metadata": {},
   "outputs": [
    {
     "name": "stdout",
     "output_type": "stream",
     "text": [
      "True\n",
      "False\n",
      "True\n",
      "False\n",
      "True\n",
      "False\n"
     ]
    }
   ],
   "source": [
    "#IS & IS NOT- PART 1\n",
    "#Identity operators are used to compare the objects, not if they are equal, but if they are actually the same object, with the same memory location:\n",
    "#1.IS - Returns True if both variables are the same object\n",
    "x = [\"apple\", \"banana\"]\n",
    "y = [\"apple\", \"banana\"]\n",
    "z = x\n",
    "\n",
    "print(x is z)      #returns True because z is the same object as x\n",
    "\n",
    "print(x is y)      # returns False because x is not the same object as y, even if they have the same content\n",
    "\n",
    "print(x == y)      #to demonstrate the difference betweeen \"is\" and \"==\": this comparison returns True because x is equal to y\n",
    "\n",
    "\n",
    "#2.IS NOT - Returns True if both variables are NOT the same object\n",
    "a = [\"ashu\",\"mona\"]\n",
    "b = [\"ashu\",\"mona\"]\n",
    "c = a\n",
    "\n",
    "print(a is not c)   #returns False because c is the same object as a\n",
    "\n",
    "print(a is not b)   # returns True because a is not the same object as b, even if they have the same content\n",
    "\n",
    "print(a != b)       # to demonstrate the difference betweeen \"is not\" and \"!=\": this comparison returns False because x is equal to y"
   ]
  },
  {
   "cell_type": "code",
   "execution_count": 3,
   "id": "ccffac24",
   "metadata": {},
   "outputs": [
    {
     "name": "stdout",
     "output_type": "stream",
     "text": [
      "False\n",
      "True\n",
      "False\n"
     ]
    }
   ],
   "source": [
    "#IS & IS NOT- PART 2\n",
    "x1 = 10\n",
    "y1 = 10\n",
    "print(x1 is not y1)\n",
    "\n",
    "x2 = \"HI\"\n",
    "y2 = \"HI\"\n",
    "print(x2 is y2)\n",
    "\n",
    "x3 = [10,11,12]\n",
    "y3 = [10,11,12]\n",
    "print(x3 is y3)\n",
    "\n",
    "\n",
    "#x1 & y1 are integers of same values, so they are Equal as well as Identical.\n",
    "#Same is the case with x2 & y2(strings).\n",
    "\n",
    "#x3 & y3 are lists and they are equal but not identical.\n",
    "#It is because the Interpreter locates them separately in memory although they are equal."
   ]
  },
  {
   "cell_type": "markdown",
   "id": "094efb2b",
   "metadata": {},
   "source": [
    "### 6.Membership Operators"
   ]
  },
  {
   "cell_type": "code",
   "execution_count": 39,
   "id": "87f8c499",
   "metadata": {},
   "outputs": [
    {
     "name": "stdout",
     "output_type": "stream",
     "text": [
      "True\n",
      "True\n"
     ]
    }
   ],
   "source": [
    "#Membership operators are used to test if a sequence is presented in an object.\n",
    "\n",
    "#1.IN- Returns True if a sequence with the specified value IS present in the object.\n",
    "x = [\"apple\", \"banana\"]\n",
    "print(\"banana\" in x)      # returns True because a sequence with the value \"banana\" is in the list\n",
    "\n",
    "\n",
    "#2.NOT IN- Returns True if a sequence with the specified value IS NOT present in the object\n",
    "a = ('name','city')\n",
    "print('address' not in a)  # returns True because a sequence with the value 'address' is not in the list\n"
   ]
  },
  {
   "cell_type": "code",
   "execution_count": null,
   "id": "97fd5756",
   "metadata": {},
   "outputs": [],
   "source": []
  }
 ],
 "metadata": {
  "kernelspec": {
   "display_name": "Python 3 (ipykernel)",
   "language": "python",
   "name": "python3"
  },
  "language_info": {
   "codemirror_mode": {
    "name": "ipython",
    "version": 3
   },
   "file_extension": ".py",
   "mimetype": "text/x-python",
   "name": "python",
   "nbconvert_exporter": "python",
   "pygments_lexer": "ipython3",
   "version": "3.10.2"
  }
 },
 "nbformat": 4,
 "nbformat_minor": 5
}
